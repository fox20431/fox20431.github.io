{
 "cells": [
  {
   "attachments": {},
   "cell_type": "markdown",
   "metadata": {},
   "source": [
    "# 论房贷是否能跑赢通胀"
   ]
  },
  {
   "attachments": {},
   "cell_type": "markdown",
   "metadata": {},
   "source": [
    "TL;DR\n",
    "\n",
    "但从货币价值上来说，并不能。"
   ]
  },
  {
   "attachments": {},
   "cell_type": "markdown",
   "metadata": {},
   "source": [
    "## 还款方式"
   ]
  },
  {
   "attachments": {},
   "cell_type": "markdown",
   "metadata": {},
   "source": [
    "国内贷款都标有年利率，但实际上我们还款和银行计算利息都是按月执行的，所以银行计算的利率实际上是月利率。\n",
    "\n",
    "$$\n",
    "月利率 = \\frac{年利率}{12}\n",
    "$$\n",
    "\n",
    "还款方式一般会事先协商好，最常用的就是**等额本息**和**等额本金**。"
   ]
  },
  {
   "attachments": {},
   "cell_type": "markdown",
   "metadata": {},
   "source": [
    "### 等额本息\n",
    "\n",
    "#### 含义\n",
    "\n",
    "等额本息是指借款人每月还款额相同，其中包括本金和利息。\n",
    "\n",
    "*个人理解：本金+利息每月偿还数额相等，称为等额本息*\n",
    "\n",
    "#### 公式\n",
    "\n",
    "$$\n",
    "月还款额 = 贷款本金 \\times \\frac{月利率 \\times (1+月利率)^{还款月数}}{(1+月利率)^{还款月数}-1}\n",
    "$$\n",
    "\n",
    "公式推导：\n",
    "\n",
    "已知贷款额度$l$，月利率为$r$，分$m$月进行等额本息偿还，求每月还款额。\n",
    "\n",
    "解：\n",
    "\n",
    "设还款额为$x$，则有：\n",
    "\n",
    "$$\n",
    "第一个月的利息加上本金为：l(1+r) \\\\\n",
    "第一个月偿还后剩余的本金为：l_1 = l(1+r) - x \n",
    "$$\n",
    "\n",
    "因此可得：\n",
    "\n",
    "$$\n",
    "第一月剩余本金：l_1 = l(1+r) -x \\\\\n",
    "第二月剩余本金：l_2 = l_1(1+r) -x \\\\\n",
    "第三月剩余本金：l_3 = l_2(1+r) -x \\\\\n",
    "\\dots \\\\\n",
    "第m月剩余本金：0 = l_{m-1}(1+r)-x （偿还完所有本金）\n",
    "$$\n",
    "\n",
    "从m月到第一月反向推到x为：\n",
    "\n",
    "$$\n",
    "l_m = \\frac{x}{1+r} \\\\\n",
    "l_{m-1} = \\frac{\\frac{x}{1+r} + x}{1+r} = \\frac{x+x(1+r)}{(1+r)^2} \\\\\n",
    "l_{m-2} = \\frac{\\frac{x+x(1+r)}{(1+x)^2} + x}{1+r} = \\frac{x+x(1+r)+ x(1+r)^2}{(1+r)^3} \\\\\n",
    "\\dots \\\\\n",
    "l(1+r)-x = \\frac{x + x(1+r) + x(1+r)^2 + \\dots + x(1+r)^{m-2}}{(1+r)^{m-1}} \n",
    "$$\n",
    "\n",
    "根据最后一个式子配合等比数列求和推到得：\n",
    "\n",
    "$$\n",
    "x = \\frac{l \\times r \\times (1+r)^m}{(1+r)^m - 1}\n",
    "$$\n",
    "\n",
    "#### 优点\n",
    "\n",
    "- 每月还款额相同，方便计划和管理财务；"
   ]
  },
  {
   "attachments": {},
   "cell_type": "markdown",
   "metadata": {},
   "source": [
    "### 等额本金\n",
    "\n",
    "#### 含义\n",
    "\n",
    "等额本金是指借款人每月还款额的本金相同，而利息根据剩余本金计算。\n",
    "\n",
    "*个人理解：每月偿还的本金相等，还款额度根据剩余本金的利息变动*\n",
    "\n",
    "公式：\n",
    "\n",
    "$$\n",
    "月还款数 = \\frac{贷款本金}{还款月数} + (贷款本金 - 已归还本金累计额) \\times 月利率\n",
    "$$\n",
    "\n",
    "优点：\n",
    "\n",
    "- 总利息少，但需综合考虑通胀；"
   ]
  },
  {
   "attachments": {},
   "cell_type": "markdown",
   "metadata": {},
   "source": [
    "## 通胀计算"
   ]
  },
  {
   "attachments": {},
   "cell_type": "markdown",
   "metadata": {},
   "source": [
    "通胀一般使用`CPI`指代，表示的是通货膨胀率/消费者物价指数。"
   ]
  },
  {
   "attachments": {},
   "cell_type": "markdown",
   "metadata": {},
   "source": [
    "$$\n",
    "T = \\frac{P_1 - P_0}{P_0}\n",
    "$$\n",
    "\n",
    "$P_1$和$P_2$分别表示时期1和时期2的价格水平。"
   ]
  },
  {
   "attachments": {},
   "cell_type": "markdown",
   "metadata": {},
   "source": [
    "比如设2022年的价格水平为$P_{2022}$，2021年的价格水平为$P_{2021}$。\n",
    "\n",
    "假设我2022年有1000元，那么该价值在2021年相当于什么多少钱。"
   ]
  },
  {
   "attachments": {},
   "cell_type": "markdown",
   "metadata": {},
   "source": [
    "## 具体案例"
   ]
  },
  {
   "attachments": {},
   "cell_type": "markdown",
   "metadata": {},
   "source": [
    "以贷款50万，年限30年，年利率4.1，还款方式为等额本息为例。"
   ]
  },
  {
   "attachments": {},
   "cell_type": "markdown",
   "metadata": {},
   "source": [
    "参考以往国内通胀为2.4%，判断贷款买房能否跑赢通胀。"
   ]
  },
  {
   "cell_type": "code",
   "execution_count": 15,
   "metadata": {},
   "outputs": [],
   "source": [
    "import math"
   ]
  },
  {
   "cell_type": "code",
   "execution_count": 17,
   "metadata": {},
   "outputs": [],
   "source": [
    "# 贷款额度\n",
    "LOAN_AMOUNT = 500_000\n",
    "# 贷款年限\n",
    "LOAN_YEAR = 30\n",
    "# 年利率（Yearly Interest Rate）\n",
    "YEAR_IR = 0.041\n",
    "# 通货膨胀率/消费者物价指数\n",
    "CPI = 0.024\n"
   ]
  },
  {
   "cell_type": "code",
   "execution_count": 18,
   "metadata": {},
   "outputs": [
    {
     "name": "stdout",
     "output_type": "stream",
     "text": [
      "0.003416666666666667 360\n"
     ]
    }
   ],
   "source": [
    "# 月利率\n",
    "month_ir = YEAR_IR / 12\n",
    "# 月数\n",
    "months = LOAN_YEAR * 12\n",
    "print(month_ir, months)"
   ]
  },
  {
   "cell_type": "code",
   "execution_count": 29,
   "metadata": {},
   "outputs": [
    {
     "name": "stdout",
     "output_type": "stream",
     "text": [
      "2415.991855512454\n"
     ]
    }
   ],
   "source": [
    "# 每月偿还费用\n",
    "repay_monthly_with_ei = (LOAN_AMOUNT * (month_ir * pow((1+month_ir), months))) / (pow((1+month_ir), months) -1)\n",
    "print(repay_monthly_with_ei)"
   ]
  },
  {
   "cell_type": "code",
   "execution_count": 30,
   "metadata": {},
   "outputs": [
    {
     "name": "stdout",
     "output_type": "stream",
     "text": [
      "28991.90226614945\n"
     ]
    }
   ],
   "source": [
    "# 每年偿还费用\n",
    "repay_yearly_with_ei = repay_monthly_with_ei * 12\n",
    "print(repay_yearly_with_ei)"
   ]
  },
  {
   "cell_type": "code",
   "execution_count": 22,
   "metadata": {},
   "outputs": [
    {
     "name": "stdout",
     "output_type": "stream",
     "text": [
      "869757.0679844834\n"
     ]
    }
   ],
   "source": [
    "all_repay_with_ei = repay_monthly_with_ei * months\n",
    "print(all_repay_with_ei)"
   ]
  },
  {
   "attachments": {},
   "cell_type": "markdown",
   "metadata": {},
   "source": [
    "将最终还完时总还款额置换成借款时物价水平，对比价值。"
   ]
  },
  {
   "cell_type": "code",
   "execution_count": 43,
   "metadata": {},
   "outputs": [
    {
     "name": "stdout",
     "output_type": "stream",
     "text": [
      "614979.436250791\n"
     ]
    }
   ],
   "source": [
    "baseline = 0\n",
    "for i in range(1, 31):\n",
    "    baseline += repay_yearly_with_ei / (pow((1+CPI), i))\n",
    "\n",
    "print(baseline)"
   ]
  }
 ],
 "metadata": {
  "kernelspec": {
   "display_name": "Python 3",
   "language": "python",
   "name": "python3"
  },
  "language_info": {
   "codemirror_mode": {
    "name": "ipython",
    "version": 3
   },
   "file_extension": ".py",
   "mimetype": "text/x-python",
   "name": "python",
   "nbconvert_exporter": "python",
   "pygments_lexer": "ipython3",
   "version": "3.10.10"
  },
  "orig_nbformat": 4,
  "vscode": {
   "interpreter": {
    "hash": "a9fec8c3c891dc5baa601a9efdcf99e7e4bb2d606d152ca1594913dddca4c14f"
   }
  }
 },
 "nbformat": 4,
 "nbformat_minor": 2
}
